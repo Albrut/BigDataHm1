{
 "cells": [
  {
   "cell_type": "markdown",
   "metadata": {},
   "source": [
    "# Лабораторная работа 1\n",
    "\n",
    "Для просмотра лабораторной работы 1 перейдите по [ссылке](https://github.com/Albrut).\n",
    "\n",
    "## Описание\n",
    "\n",
    "В этом репозитории находятся материалы и код, связанные с лабораторной работой 1.\n",
    "\n",
    "## Автор\n",
    "* Альберт Гадиев AIN-2-22"
   ]
  },
  {
   "cell_type": "code",
   "execution_count": 3,
   "metadata": {},
   "outputs": [
    {
     "name": "stdout",
     "output_type": "stream",
     "text": [
      "DADA\n",
      "UEUEUEUEUEU\n"
     ]
    }
   ],
   "source": [
    "print(\"DADA\")\n",
    "print(\"UEUEUEUEUEU\")"
   ]
  }
 ],
 "metadata": {
  "kernelspec": {
   "display_name": "Python 3 (ipykernel)",
   "language": "python",
   "name": "python3"
  },
  "language_info": {
   "codemirror_mode": {
    "name": "ipython",
    "version": 3
   },
   "file_extension": ".py",
   "mimetype": "text/x-python",
   "name": "python",
   "nbconvert_exporter": "python",
   "pygments_lexer": "ipython3",
   "version": "3.12.5"
  }
 },
 "nbformat": 4,
 "nbformat_minor": 4
}
