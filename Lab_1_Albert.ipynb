{
 "cells": [
  {
   "cell_type": "markdown",
   "metadata": {},
   "source": [
    "# Лабораторная работа 1\n",
    "\n",
    "Для просмотра лабораторной работы 1 перейдите по [ссылке](https://github.com/Albrut).\n",
    "\n",
    "## Описание\n",
    "\n",
    "В этом репозитории находятся материалы и код, связанные с лабораторной работой 1.\n",
    "\n",
    "## Автор\n",
    "* Альберт Гадиев AIN-2-22"
   ]
  },
  {
   "cell_type": "markdown",
   "metadata": {},
   "source": [
    "### Hello world "
   ]
  },
  {
   "cell_type": "code",
   "execution_count": 1,
   "metadata": {},
   "outputs": [
    {
     "name": "stdout",
     "output_type": "stream",
     "text": [
      "Hello world\n",
      "hello, hi, Guten Tag\n"
     ]
    }
   ],
   "source": [
    "print(\"Hello world\")\n",
    "print(\"hello, hi, Guten Tag\")"
   ]
  },
  {
   "cell_type": "markdown",
   "metadata": {},
   "source": [
    "## Variables\n"
   ]
  },
  {
   "cell_type": "code",
   "execution_count": 2,
   "metadata": {},
   "outputs": [
    {
     "name": "stdout",
     "output_type": "stream",
     "text": [
      "<class 'int'>\n",
      "Value is 12\n"
     ]
    }
   ],
   "source": [
    "integer = 12\n",
    "print(type(integer))\n",
    "print(\"Value is\", integer)"
   ]
  },
  {
   "cell_type": "markdown",
   "metadata": {},
   "source": [
    "## Advance Variables"
   ]
  },
  {
   "cell_type": "code",
   "execution_count": 3,
   "metadata": {},
   "outputs": [
    {
     "name": "stdout",
     "output_type": "stream",
     "text": [
      "Измененный список: [1, 2, 3, 4, 5, 6]\n",
      "Значение по ключу 'name': Alice\n",
      "Кортеж: ('apple', 'banana', 'cherry')\n"
     ]
    }
   ],
   "source": [
    "\n",
    "my_dict = {\"name\": \"Alice\", \"age\": 30, \"city\": \"New York\"}\n",
    "my_list = [1, 2, 3, 4, 5]\n",
    "my_tuple = (\"apple\", \"banana\", \"cherry\")\n",
    "my_list.append(6)\n",
    "print(\"Измененный список:\", my_list)\n",
    "name_value = my_dict.get(\"name\")\n",
    "print(\"Значение по ключу 'name':\", name_value)\n",
    "print(\"Кортеж:\", my_tuple)\n"
   ]
  },
  {
   "cell_type": "markdown",
   "metadata": {},
   "source": [
    "## Math Operations"
   ]
  },
  {
   "cell_type": "code",
   "execution_count": 4,
   "metadata": {},
   "outputs": [
    {
     "name": "stdout",
     "output_type": "stream",
     "text": [
      "Пример возведения в степень 32.0\n",
      "Name: Albert, Age: 10, City: DA\n"
     ]
    }
   ],
   "source": [
    "import math\n",
    "powerOF = math.pow(2,5)\n",
    "print(\"Пример возведения в степень\",powerOF)\n",
    "# И заодно вывод как в Си\n",
    "name = \"Albert\"\n",
    "age = 10\n",
    "city = \"DA\"\n",
    "\n",
    "print(\"Name: %s, Age: %d, City: %s\" % (name, age, city))\n",
    "\n"
   ]
  },
  {
   "cell_type": "markdown",
   "metadata": {},
   "source": [
    "## Conditions "
   ]
  },
  {
   "cell_type": "code",
   "execution_count": 5,
   "metadata": {},
   "outputs": [
    {
     "name": "stdout",
     "output_type": "stream",
     "text": [
      "Not equal\n"
     ]
    }
   ],
   "source": [
    "first_v = 1\n",
    "second_v = 3\n",
    "if first_v == second_v:\n",
    "    print(\"Equal\")\n",
    "elif first_v > second_v:\n",
    "    print(\"First variable is greater\")\n",
    "else:\n",
    "    print(\"Not equal\")\n"
   ]
  },
  {
   "cell_type": "markdown",
   "metadata": {},
   "source": [
    "## Loops"
   ]
  },
  {
   "cell_type": "code",
   "execution_count": 14,
   "metadata": {},
   "outputs": [
    {
     "name": "stdout",
     "output_type": "stream",
     "text": [
      "0  -is iteration number 'For Loop'\n",
      "1  -is iteration number 'For Loop'\n",
      "2  -is iteration number 'For Loop'\n",
      "3  -is iteration number 'For Loop'\n",
      "4  -is iteration number 'For Loop'\n",
      "5  -is iteration number 'For Loop'\n",
      "6  -is iteration number 'For Loop'\n",
      "7  -is iteration number 'For Loop'\n",
      "8  -is iteration number 'For Loop'\n",
      "9  -is iteration number 'For Loop'\n",
      "that's all for \"For\" loop\n",
      "2 \"Whle loop\" iteration number\n",
      "4 \"Whle loop\" iteration number\n",
      "6 \"Whle loop\" iteration number\n",
      "8 \"Whle loop\" iteration number\n",
      "10 \"Whle loop\" iteration number\n",
      "that's all for while loop\n"
     ]
    }
   ],
   "source": [
    "for i in range(10):\n",
    "    print(i, \" -is iteration number \\'For Loop\\'\")\n",
    "else:\n",
    "    print(\"that's all for \\\"For\\\" loop\")\n",
    "\n",
    "the_v = 0\n",
    "while the_v < 10:\n",
    "    the_v +=2\n",
    "    print(the_v, \"\\\"Whle loop\\\" iteration number\")\n",
    "else:\n",
    "    print(\"that's all for while loop\")"
   ]
  },
  {
   "cell_type": "markdown",
   "metadata": {},
   "source": [
    "<h4> Functions <h4>"
   ]
  },
  {
   "cell_type": "code",
   "execution_count": 15,
   "metadata": {},
   "outputs": [],
   "source": [
    "def minus3(x):\n",
    "    x -=3\n",
    "    return  x"
   ]
  },
  {
   "cell_type": "code",
   "execution_count": 16,
   "metadata": {},
   "outputs": [
    {
     "data": {
      "text/plain": [
       "0"
      ]
     },
     "execution_count": 16,
     "metadata": {},
     "output_type": "execute_result"
    }
   ],
   "source": [
    "variable_func = 3\n",
    "minus3(3)"
   ]
  },
  {
   "cell_type": "markdown",
   "metadata": {},
   "source": [
    "<h4> Lambdas <h3>"
   ]
  },
  {
   "cell_type": "code",
   "execution_count": 17,
   "metadata": {},
   "outputs": [
    {
     "name": "stdout",
     "output_type": "stream",
     "text": [
      "0\n",
      "3\n"
     ]
    }
   ],
   "source": [
    "x = lambda a : a - 3\n",
    "print(x(3))\n",
    "\n",
    "lambda_func = lambda sth : sth + sth - 3 + 2\n",
    "print(lambda_func(2))"
   ]
  },
  {
   "cell_type": "markdown",
   "metadata": {},
   "source": [
    "<h4> Image <h4>"
   ]
  },
  {
   "cell_type": "markdown",
   "metadata": {},
   "source": [
    "<img src = \"https://encrypted-tbn0.gstatic.com/images?q=tbn:ANd9GcTs5VTSJRmTaiytbrpgVOkm5PtldWEqXxkbKg&s\">"
   ]
  },
  {
   "cell_type": "markdown",
   "metadata": {},
   "source": [
    "<h4> Commands and formules<h4>"
   ]
  },
  {
   "cell_type": "markdown",
   "metadata": {},
   "source": [
    "\n",
    "\n",
    "$$\n",
    "P + \\frac{1}{2} \\rho v^2 + \\rho gh = \\text{const}\n",
    "$$\n"
   ]
  },
  {
   "cell_type": "code",
   "execution_count": 18,
   "metadata": {
    "vscode": {
     "languageId": "bat"
    }
   },
   "outputs": [
    {
     "name": "stdout",
     "output_type": "stream",
     "text": [
      "Active code page: 65001\n",
      "\n",
      "Pinging google.com [142.250.74.174] with 32 bytes of data:\n",
      "Reply from 142.250.74.174: bytes=32 time=632ms TTL=55\n",
      "Reply from 142.250.74.174: bytes=32 time=474ms TTL=55\n",
      "Reply from 142.250.74.174: bytes=32 time=270ms TTL=55\n",
      "Reply from 142.250.74.174: bytes=32 time=116ms TTL=55\n",
      "\n",
      "Ping statistics for 142.250.74.174:\n",
      "    Packets: Sent = 4, Received = 4, Lost = 0 (0% loss),\n",
      "Approximate round trip times in milli-seconds:\n",
      "    Minimum = 116ms, Maximum = 632ms, Average = 373ms\n"
     ]
    }
   ],
   "source": [
    "! chcp 65001\n",
    "! ping -n 4 google.com  \n"
   ]
  },
  {
   "cell_type": "markdown",
   "metadata": {},
   "source": [
    "<h2><strong>Tasks<strong><h2>"
   ]
  },
  {
   "cell_type": "markdown",
   "metadata": {},
   "source": [
    "$$\n",
    "f = \\frac{9\\pi t + 10 \\cos(x)}{\\sqrt{t} - \\sin(x)} \\cdot e^{-2t}\n",
    "$$\n"
   ]
  },
  {
   "cell_type": "code",
   "execution_count": 19,
   "metadata": {},
   "outputs": [
    {
     "name": "stdout",
     "output_type": "stream",
     "text": [
      "Результат f(t, x): 2.895289048911311\n"
     ]
    }
   ],
   "source": [
    "import math\n",
    "\n",
    "def f(t, x):\n",
    "    up_one = 9 * math.pi * t + 10 * math.cos(x)\n",
    "    down_one = math.sqrt(t) - math.sin(x)\n",
    "    return (up_one / down_one) * pow(math.e, -2 * t)\n",
    "\n",
    "\n",
    "t = 1 \n",
    "x = 3  \n",
    "\n",
    "result = f(t, x)\n",
    "print(\"Результат f(t, x):\", result)\n"
   ]
  },
  {
   "cell_type": "markdown",
   "metadata": {},
   "source": [
    "<h4>3 Numbers<h4>"
   ]
  },
  {
   "cell_type": "code",
   "execution_count": 20,
   "metadata": {},
   "outputs": [
    {
     "name": "stdout",
     "output_type": "stream",
     "text": [
      "[7, 9, 0] Generated Numbers\n",
      "[7, 9] Final list after filtration\n"
     ]
    }
   ],
   "source": [
    "import random\n",
    "list_numbers = []\n",
    "list_of_borders = [5, 11]\n",
    "final_list = []\n",
    "for i in range(3):\n",
    "    a = random.randint(0,12)\n",
    "    list_numbers.append(a)\n",
    "\n",
    "for i in list_numbers:\n",
    "    if (i > list_of_borders[0]) and (i < list_of_borders[1]):\n",
    "        final_list.append(i)\n",
    "print(list_numbers, \"Generated Numbers\")\n",
    "print(final_list, \"Final list after filtration\")"
   ]
  },
  {
   "cell_type": "markdown",
   "metadata": {},
   "source": [
    "<h4>Randomizer<h4>"
   ]
  },
  {
   "cell_type": "code",
   "execution_count": 23,
   "metadata": {},
   "outputs": [
    {
     "name": "stdout",
     "output_type": "stream",
     "text": [
      "8 3 5 10 5 5 8 5 2 7 4 7 0 5 2 8 9 6 10 10\n"
     ]
    }
   ],
   "source": [
    "import random\n",
    "import random\n",
    "\n",
    "numbers = [random.randint(0, 10) for i in range(20)]\n",
    "print(*numbers)\n"
   ]
  }
 ],
 "metadata": {
  "kernelspec": {
   "display_name": "Python 3 (ipykernel)",
   "language": "python",
   "name": "python3"
  },
  "language_info": {
   "codemirror_mode": {
    "name": "ipython",
    "version": 3
   },
   "file_extension": ".py",
   "mimetype": "text/x-python",
   "name": "python",
   "nbconvert_exporter": "python",
   "pygments_lexer": "ipython3",
   "version": "3.12.5"
  }
 },
 "nbformat": 4,
 "nbformat_minor": 4
}
