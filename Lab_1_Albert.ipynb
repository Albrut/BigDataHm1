{
 "cells": [
  {
   "cell_type": "markdown",
   "metadata": {},
   "source": [
    "# Лабораторная работа 1\n",
    "\n",
    "Для просмотра лабораторной работы 1 перейдите по [ссылке](https://github.com/Albrut).\n",
    "\n",
    "## Описание\n",
    "\n",
    "В этом репозитории находятся материалы и код, связанные с лабораторной работой 1.\n",
    "\n",
    "## Автор\n",
    "* Альберт Гадиев AIN-2-22"
   ]
  },
  {
   "cell_type": "markdown",
   "metadata": {},
   "source": [
    "### Hello world "
   ]
  },
  {
   "cell_type": "code",
   "execution_count": 1,
   "metadata": {},
   "outputs": [
    {
     "name": "stdout",
     "output_type": "stream",
     "text": [
      "Hello world\n",
      "hello, hi, Guten Tag\n"
     ]
    }
   ],
   "source": [
    "print(\"Hello world\")\n",
    "print(\"hello, hi, Guten Tag\")"
   ]
  },
  {
   "cell_type": "markdown",
   "metadata": {},
   "source": [
    "## Variables\n"
   ]
  },
  {
   "cell_type": "code",
   "execution_count": 2,
   "metadata": {},
   "outputs": [
    {
     "name": "stdout",
     "output_type": "stream",
     "text": [
      "<class 'int'>\n",
      "Value is 12\n"
     ]
    }
   ],
   "source": [
    "integer = 12\n",
    "print(type(integer))\n",
    "print(\"Value is\", integer)"
   ]
  },
  {
   "cell_type": "markdown",
   "metadata": {},
   "source": [
    "## Advance Variables"
   ]
  },
  {
   "cell_type": "code",
   "execution_count": 3,
   "metadata": {},
   "outputs": [
    {
     "name": "stdout",
     "output_type": "stream",
     "text": [
      "Измененный список: [1, 2, 3, 4, 5, 6]\n",
      "Значение по ключу 'name': Alice\n",
      "Кортеж: ('apple', 'banana', 'cherry')\n"
     ]
    }
   ],
   "source": [
    "\n",
    "my_dict = {\"name\": \"Alice\", \"age\": 30, \"city\": \"New York\"}\n",
    "my_list = [1, 2, 3, 4, 5]\n",
    "my_tuple = (\"apple\", \"banana\", \"cherry\")\n",
    "my_list.append(6)\n",
    "print(\"Измененный список:\", my_list)\n",
    "name_value = my_dict.get(\"name\")\n",
    "print(\"Значение по ключу 'name':\", name_value)\n",
    "print(\"Кортеж:\", my_tuple)\n"
   ]
  },
  {
   "cell_type": "markdown",
   "metadata": {},
   "source": [
    "## Math Operations"
   ]
  },
  {
   "cell_type": "code",
   "execution_count": 4,
   "metadata": {},
   "outputs": [
    {
     "name": "stdout",
     "output_type": "stream",
     "text": [
      "Пример возведения в степень 32.0\n",
      "Name: Albert, Age: 10, City: DA\n"
     ]
    }
   ],
   "source": [
    "import math\n",
    "powerOF = math.pow(2,5)\n",
    "print(\"Пример возведения в степень\",powerOF)\n",
    "# И заодно вывод как в Си\n",
    "name = \"Albert\"\n",
    "age = 10\n",
    "city = \"DA\"\n",
    "\n",
    "print(\"Name: %s, Age: %d, City: %s\" % (name, age, city))\n",
    "\n"
   ]
  },
  {
   "cell_type": "markdown",
   "metadata": {},
   "source": [
    "## Conditions "
   ]
  },
  {
   "cell_type": "code",
   "execution_count": 5,
   "metadata": {},
   "outputs": [
    {
     "name": "stdout",
     "output_type": "stream",
     "text": [
      "Not equal\n"
     ]
    }
   ],
   "source": [
    "first_v = 1\n",
    "second_v = 3\n",
    "if first_v == second_v:\n",
    "    print(\"Equal\")\n",
    "elif first_v > second_v:\n",
    "    print(\"First variable is greater\")\n",
    "else:\n",
    "    print(\"Not equal\")\n"
   ]
  },
  {
   "cell_type": "markdown",
   "metadata": {},
   "source": [
    "## Loops"
   ]
  },
  {
   "cell_type": "code",
   "execution_count": 6,
   "metadata": {},
   "outputs": [
    {
     "name": "stdout",
     "output_type": "stream",
     "text": [
      "0  -is iteration number 'For Loop'\n",
      "1  -is iteration number 'For Loop'\n",
      "2  -is iteration number 'For Loop'\n",
      "3  -is iteration number 'For Loop'\n",
      "4  -is iteration number 'For Loop'\n",
      "5  -is iteration number 'For Loop'\n",
      "6  -is iteration number 'For Loop'\n",
      "7  -is iteration number 'For Loop'\n",
      "8  -is iteration number 'For Loop'\n",
      "9  -is iteration number 'For Loop'\n",
      "that's all for \"For\" loop\n",
      "2 \"Whle loop\" iteration number\n",
      "4 \"Whle loop\" iteration number\n",
      "6 \"Whle loop\" iteration number\n",
      "8 \"Whle loop\" iteration number\n",
      "10 \"Whle loop\" iteration number\n",
      "that's all for while loop\n"
     ]
    }
   ],
   "source": [
    "for i in range(10):\n",
    "    print(i, \" -is iteration number \\'For Loop\\'\")\n",
    "else:\n",
    "    print(\"that's all for \\\"For\\\" loop\")\n",
    "\n",
    "the_v = 0\n",
    "while the_v < 10:\n",
    "    the_v +=2\n",
    "    print(the_v, \"\\\"Whle loop\\\" iteration number\")\n",
    "else:\n",
    "    print(\"that's all for while loop\")"
   ]
  },
  {
   "cell_type": "markdown",
   "metadata": {},
   "source": [
    "<h4> Functions <h4>"
   ]
  },
  {
   "cell_type": "code",
   "execution_count": 7,
   "metadata": {},
   "outputs": [],
   "source": [
    "def minus3(x):\n",
    "    x -=3\n",
    "    return  x"
   ]
  },
  {
   "cell_type": "code",
   "execution_count": 8,
   "metadata": {},
   "outputs": [
    {
     "data": {
      "text/plain": [
       "0"
      ]
     },
     "execution_count": 8,
     "metadata": {},
     "output_type": "execute_result"
    }
   ],
   "source": [
    "variable_func = 3\n",
    "minus3(3)"
   ]
  },
  {
   "cell_type": "markdown",
   "metadata": {},
   "source": [
    "<h4> Lambdas <h3>"
   ]
  },
  {
   "cell_type": "code",
   "execution_count": 9,
   "metadata": {},
   "outputs": [
    {
     "name": "stdout",
     "output_type": "stream",
     "text": [
      "0\n",
      "3\n"
     ]
    }
   ],
   "source": [
    "x = lambda a : a - 3\n",
    "print(x(3))\n",
    "\n",
    "lambda_func = lambda sth : sth + sth - 3 + 2\n",
    "print(lambda_func(2))"
   ]
  },
  {
   "cell_type": "markdown",
   "metadata": {},
   "source": [
    "<h4> Image <h4>"
   ]
  },
  {
   "cell_type": "markdown",
   "metadata": {},
   "source": [
    "<img src = \"https://encrypted-tbn0.gstatic.com/images?q=tbn:ANd9GcTs5VTSJRmTaiytbrpgVOkm5PtldWEqXxkbKg&s\">"
   ]
  },
  {
   "cell_type": "markdown",
   "metadata": {},
   "source": [
    "<h4> Commands and formules<h4>"
   ]
  },
  {
   "cell_type": "markdown",
   "metadata": {},
   "source": [
    "\n",
    "\n",
    "$$\n",
    "P + \\frac{1}{2} \\rho v^2 + \\rho gh = \\text{const}\n",
    "$$\n"
   ]
  },
  {
   "cell_type": "code",
   "execution_count": null,
   "metadata": {
    "vscode": {
     "languageId": "bat"
    }
   },
   "outputs": [
    {
     "name": "stdout",
     "output_type": "stream",
     "text": [
      "chcp: too few arguments\n",
      "PING yandex.ru (5.255.255.77) 56(124) bytes of data.\n"
     ]
    }
   ],
   "source": [
    "! chcp 65001\n",
    "! ping -n 4 yandex.ru\n"
   ]
  },
  {
   "cell_type": "code",
   "execution_count": 11,
   "metadata": {
    "vscode": {
     "languageId": "bat"
    }
   },
   "outputs": [
    {
     "name": "stdout",
     "output_type": "stream",
     "text": [
      "Active code page: 65001\n",
      "\n",
      "Windows IP Configuration\n",
      "\n",
      "\n",
      "Ethernet adapter Ethernet 2:\n",
      "\n",
      "   Media State . . . . . . . . . . . : Media disconnected\n",
      "   Connection-specific DNS Suffix  . : \n",
      "\n",
      "Ethernet adapter vEthernet (WSL (Hyper-V firewall)):\n",
      "\n",
      "   Connection-specific DNS Suffix  . : \n",
      "   Link-local IPv6 Address . . . . . : fe80::80d4:3de:bfbe:a72%57\n",
      "   IPv4 Address. . . . . . . . . . . : 172.18.224.1\n",
      "   Subnet Mask . . . . . . . . . . . : 255.255.240.0\n",
      "   Default Gateway . . . . . . . . . : \n",
      "\n",
      "Wireless LAN adapter ������祭�� �� �����쭮� ��* 1:\n",
      "\n",
      "   Media State . . . . . . . . . . . : Media disconnected\n",
      "   Connection-specific DNS Suffix  . : \n",
      "\n",
      "Wireless LAN adapter ������祭�� �� �����쭮� ��* 2:\n",
      "\n",
      "   Media State . . . . . . . . . . . : Media disconnected\n",
      "   Connection-specific DNS Suffix  . : \n",
      "\n",
      "Ethernet adapter Ethernet:\n",
      "\n",
      "   Connection-specific DNS Suffix  . : \n",
      "   Link-local IPv6 Address . . . . . : fe80::d146:7b07:f877:2a18%7\n",
      "   IPv4 Address. . . . . . . . . . . : 192.168.0.103\n",
      "   Subnet Mask . . . . . . . . . . . : 255.255.255.0\n",
      "   Default Gateway . . . . . . . . . : 192.168.0.1\n",
      "\n",
      "Wireless LAN adapter ���஢����� ���:\n",
      "\n",
      "   Media State . . . . . . . . . . . : Media disconnected\n",
      "   Connection-specific DNS Suffix  . : \n"
     ]
    }
   ],
   "source": [
    "! chcp 65001\n",
    "! ipconfig"
   ]
  },
  {
   "cell_type": "markdown",
   "metadata": {},
   "source": [
    "<h2><strong>Tasks<strong><h2>"
   ]
  },
  {
   "cell_type": "markdown",
   "metadata": {},
   "source": [
    "$$\n",
    "f = \\frac{9\\pi t + 10 \\cos(x)}{\\sqrt{t} - \\sin(x)} \\cdot e^{-2t}\n",
    "$$\n"
   ]
  },
  {
   "cell_type": "code",
   "execution_count": 12,
   "metadata": {},
   "outputs": [
    {
     "name": "stdout",
     "output_type": "stream",
     "text": [
      "Результат f(t, x): 2.895289048911311\n"
     ]
    }
   ],
   "source": [
    "import math\n",
    "\n",
    "def f(t, x):\n",
    "    up_one = 9 * math.pi * t + 10 * math.cos(x)\n",
    "    down_one = math.sqrt(t) - math.sin(x)\n",
    "    return (up_one / down_one) * pow(math.e, -2 * t)\n",
    "\n",
    "\n",
    "t = 1 \n",
    "x = 3  \n",
    "\n",
    "result = f(t, x)\n",
    "print(\"Результат f(t, x):\", result)\n"
   ]
  },
  {
   "cell_type": "markdown",
   "metadata": {},
   "source": [
    "<h4>3 Numbers<h4>"
   ]
  },
  {
   "cell_type": "code",
   "execution_count": 13,
   "metadata": {},
   "outputs": [
    {
     "name": "stdout",
     "output_type": "stream",
     "text": [
      "[6, 12, 2] Generated Numbers\n",
      "[6] Final list after filtration\n"
     ]
    }
   ],
   "source": [
    "import random\n",
    "list_numbers = []\n",
    "list_of_borders = [5, 11]\n",
    "final_list = []\n",
    "for i in range(3):\n",
    "    a = random.randint(0,12)\n",
    "    list_numbers.append(a)\n",
    "\n",
    "for i in list_numbers:\n",
    "    if (i > list_of_borders[0]) and (i < list_of_borders[1]):\n",
    "        final_list.append(i)\n",
    "print(list_numbers, \"Generated Numbers\")\n",
    "print(final_list, \"Final list after filtration\")"
   ]
  },
  {
   "cell_type": "markdown",
   "metadata": {},
   "source": [
    "<h4>Randomizer<h4>"
   ]
  },
  {
   "cell_type": "code",
   "execution_count": 14,
   "metadata": {},
   "outputs": [
    {
     "name": "stdout",
     "output_type": "stream",
     "text": [
      "10 8 1 9 6 6 6 8 2 0 3 2 9 5 0 3 5 2 8 3 Numbers that were generated\n",
      "96 The sum of the digits\n"
     ]
    }
   ],
   "source": [
    "import random\n",
    "import random\n",
    "\n",
    "numbers = [random.randint(0, 10) for i in range(20)]\n",
    "print(*numbers, \"Numbers that were generated\")\n",
    "print(sum(numbers), \"The sum of the digits\")\n"
   ]
  },
  {
   "cell_type": "markdown",
   "metadata": {},
   "source": [
    "### Summ of sequence"
   ]
  },
  {
   "cell_type": "code",
   "execution_count": 1,
   "metadata": {},
   "outputs": [
    {
     "name": "stdout",
     "output_type": "stream",
     "text": [
      "Элемент 1: 0.3333333333333333\n",
      "Элемент 2: 0.5\n",
      "Элемент 3: 0.6\n",
      "Элемент 4: 0.6666666666666666\n",
      "Элемент 5: 0.7142857142857143\n",
      "Элемент 6: 0.75\n",
      "Элемент 7: 0.7777777777777778\n",
      "Элемент 8: 0.8\n",
      "Элемент 9: 0.8181818181818182\n",
      "Элемент 10: 0.8333333333333334\n",
      "Элемент 11: 0.8461538461538461\n",
      "Элемент 12: 0.8571428571428571\n",
      "Элемент 13: 0.8666666666666667\n",
      "Элемент 14: 0.875\n",
      "Элемент 15: 0.8823529411764706\n",
      "Элемент 16: 0.8888888888888888\n",
      "Элемент 17: 0.8947368421052632\n",
      "Элемент 18: 0.9\n",
      "Элемент 19: 0.9047619047619048\n",
      "Элемент 20: 0.9090909090909091\n"
     ]
    }
   ],
   "source": [
    "\n",
    "sequence = [n / (n + 2) for n in range(1, 21)]\n",
    "\n",
    "\n",
    "for index, item in enumerate(sequence, start=1):\n",
    "    print(f\"Элемент {index}: {item}\")\n"
   ]
  }
 ],
 "metadata": {
  "kernelspec": {
   "display_name": ".venv",
   "language": "python",
   "name": "python3"
  },
  "language_info": {
   "codemirror_mode": {
    "name": "ipython",
    "version": 3
   },
   "file_extension": ".py",
   "mimetype": "text/x-python",
   "name": "python",
   "nbconvert_exporter": "python",
   "pygments_lexer": "ipython3",
   "version": "3.12.7"
  }
 },
 "nbformat": 4,
 "nbformat_minor": 4
}
